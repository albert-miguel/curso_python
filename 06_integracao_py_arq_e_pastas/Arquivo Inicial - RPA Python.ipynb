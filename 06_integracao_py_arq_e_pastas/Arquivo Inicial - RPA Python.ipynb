{
 "cells": [
  {
   "cell_type": "markdown",
   "metadata": {},
   "source": [
    "# RPA com Python\n",
    "\n",
    "- O que é RPA?\n",
    "- Por que isso é diferente de Selenium/Web-Scraping e do que vimos até agora?\n",
    "    - Pontos Positivos\n",
    "    - Pontos Negativos\n",
    "- Biblioteca usada:\n",
    "    - pip install pyautogui\n",
    "    - https://pyautogui.readthedocs.io/en/latest/\n",
    "        - Para os comandos de imagem pode ser que seja necessário instalar pip install pillow\n",
    "        - Para resolver problemas de caracteres especiais vamos usar um macete com a pyperclip\n",
    "        \n",
    "- Link com um resumo dos principais comandos: https://pyautogui.readthedocs.io/en/latest/quickstart.html"
   ]
  },
  {
   "cell_type": "markdown",
   "metadata": {},
   "source": [
    "## Desafio\n",
    "\n",
    "- Vamos automatizar a extração de informações de um sistema e envio de um relatório por e-mail\n",
    "- No nosso caso, para todo mundo conseguir fazer o mesmo programa, o nosso \"sistema\" vai ser o Gmail, mas o mesmo processo pode ser feito com qualquer programa do seu computador e qualquer sistema\n",
    "    - Passo 1: Entrar no sistema (entrar no Gmail)\n",
    "    - Passo 2: Entrar em uma aba específica do sistema onde tem o nosso relatório (Aba Contatos)\n",
    "    - Passo 3: Exportar o Relatório (Exportar Contatos)\n",
    "    - Passo 4: Pegar o relatório exportado, tratar e pegar as informações que queremos\n",
    "    - Passo 5: Preencher/Atualizar informações do sistema (No nosso caso, criar um e-mail e enviar)"
   ]
  },
  {
   "cell_type": "code",
   "execution_count": 10,
   "metadata": {},
   "outputs": [
    {
     "ename": "ImageNotFoundException",
     "evalue": "",
     "output_type": "error",
     "traceback": [
      "\u001b[0;31m---------------------------------------------------------------------------\u001b[0m",
      "\u001b[0;31mImageNotFoundException\u001b[0m                    Traceback (most recent call last)",
      "File \u001b[0;32m~/.local/lib/python3.10/site-packages/pyautogui/__init__.py:172\u001b[0m, in \u001b[0;36mraisePyAutoGUIImageNotFoundException.<locals>.wrapper\u001b[0;34m(*args, **kwargs)\u001b[0m\n\u001b[1;32m    171\u001b[0m \u001b[39mtry\u001b[39;00m:\n\u001b[0;32m--> 172\u001b[0m     \u001b[39mreturn\u001b[39;00m wrappedFunction(\u001b[39m*\u001b[39;49margs, \u001b[39m*\u001b[39;49m\u001b[39m*\u001b[39;49mkwargs)\n\u001b[1;32m    173\u001b[0m \u001b[39mexcept\u001b[39;00m pyscreeze\u001b[39m.\u001b[39mImageNotFoundException:\n",
      "File \u001b[0;32m~/.local/lib/python3.10/site-packages/pyautogui/__init__.py:210\u001b[0m, in \u001b[0;36mlocateOnScreen\u001b[0;34m(*args, **kwargs)\u001b[0m\n\u001b[1;32m    208\u001b[0m \u001b[39m@raisePyAutoGUIImageNotFoundException\u001b[39m\n\u001b[1;32m    209\u001b[0m \u001b[39mdef\u001b[39;00m \u001b[39mlocateOnScreen\u001b[39m(\u001b[39m*\u001b[39margs, \u001b[39m*\u001b[39m\u001b[39m*\u001b[39mkwargs):\n\u001b[0;32m--> 210\u001b[0m     \u001b[39mreturn\u001b[39;00m pyscreeze\u001b[39m.\u001b[39;49mlocateOnScreen(\u001b[39m*\u001b[39;49margs, \u001b[39m*\u001b[39;49m\u001b[39m*\u001b[39;49mkwargs)\n",
      "File \u001b[0;32m~/.local/lib/python3.10/site-packages/pyscreeze/__init__.py:405\u001b[0m, in \u001b[0;36mlocateOnScreen\u001b[0;34m(image, minSearchTime, **kwargs)\u001b[0m\n\u001b[1;32m    404\u001b[0m screenshotIm \u001b[39m=\u001b[39m screenshot(region\u001b[39m=\u001b[39m\u001b[39mNone\u001b[39;00m)\n\u001b[0;32m--> 405\u001b[0m retVal \u001b[39m=\u001b[39m locate(image, screenshotIm, \u001b[39m*\u001b[39;49m\u001b[39m*\u001b[39;49mkwargs)\n\u001b[1;32m    406\u001b[0m \u001b[39mtry\u001b[39;00m:\n",
      "File \u001b[0;32m~/.local/lib/python3.10/site-packages/pyscreeze/__init__.py:383\u001b[0m, in \u001b[0;36mlocate\u001b[0;34m(needleImage, haystackImage, **kwargs)\u001b[0m\n\u001b[1;32m    382\u001b[0m kwargs[\u001b[39m'\u001b[39m\u001b[39mlimit\u001b[39m\u001b[39m'\u001b[39m] \u001b[39m=\u001b[39m \u001b[39m1\u001b[39m\n\u001b[0;32m--> 383\u001b[0m points \u001b[39m=\u001b[39m \u001b[39mtuple\u001b[39;49m(locateAll(needleImage, haystackImage, \u001b[39m*\u001b[39;49m\u001b[39m*\u001b[39;49mkwargs))\n\u001b[1;32m    384\u001b[0m \u001b[39mif\u001b[39;00m \u001b[39mlen\u001b[39m(points) \u001b[39m>\u001b[39m \u001b[39m0\u001b[39m:\n",
      "File \u001b[0;32m~/.local/lib/python3.10/site-packages/pyscreeze/__init__.py:371\u001b[0m, in \u001b[0;36m_locateAll_pillow\u001b[0;34m(needleImage, haystackImage, grayscale, limit, region, step, confidence)\u001b[0m\n\u001b[1;32m    370\u001b[0m \u001b[39mif\u001b[39;00m USE_IMAGE_NOT_FOUND_EXCEPTION:\n\u001b[0;32m--> 371\u001b[0m     \u001b[39mraise\u001b[39;00m ImageNotFoundException(\u001b[39m'\u001b[39m\u001b[39mCould not locate the image.\u001b[39m\u001b[39m'\u001b[39m)\n\u001b[1;32m    372\u001b[0m \u001b[39melse\u001b[39;00m:\n",
      "\u001b[0;31mImageNotFoundException\u001b[0m: Could not locate the image.",
      "\nDuring handling of the above exception, another exception occurred:\n",
      "\u001b[0;31mImageNotFoundException\u001b[0m                    Traceback (most recent call last)",
      "\u001b[1;32m/home/albert/project/python/curso_py/06_integracao_py_arq_e_pastas/Arquivo Inicial - RPA Python.ipynb Cell 3\u001b[0m line \u001b[0;36m9\n\u001b[1;32m      <a href='vscode-notebook-cell:/home/albert/project/python/curso_py/06_integracao_py_arq_e_pastas/Arquivo%20Inicial%20-%20RPA%20Python.ipynb#W2sZmlsZQ%3D%3D?line=0'>1</a>\u001b[0m \u001b[39mimport\u001b[39;00m \u001b[39mpyautogui\u001b[39;00m\n\u001b[1;32m      <a href='vscode-notebook-cell:/home/albert/project/python/curso_py/06_integracao_py_arq_e_pastas/Arquivo%20Inicial%20-%20RPA%20Python.ipynb#W2sZmlsZQ%3D%3D?line=2'>3</a>\u001b[0m \u001b[39m# pyautogui.PAUSE = 0.5\u001b[39;00m\n\u001b[1;32m      <a href='vscode-notebook-cell:/home/albert/project/python/curso_py/06_integracao_py_arq_e_pastas/Arquivo%20Inicial%20-%20RPA%20Python.ipynb#W2sZmlsZQ%3D%3D?line=3'>4</a>\u001b[0m \u001b[39m# pyautogui.press('win')\u001b[39;00m\n\u001b[1;32m      <a href='vscode-notebook-cell:/home/albert/project/python/curso_py/06_integracao_py_arq_e_pastas/Arquivo%20Inicial%20-%20RPA%20Python.ipynb#W2sZmlsZQ%3D%3D?line=4'>5</a>\u001b[0m \u001b[39m# pyautogui.write('google chrome')\u001b[39;00m\n\u001b[1;32m      <a href='vscode-notebook-cell:/home/albert/project/python/curso_py/06_integracao_py_arq_e_pastas/Arquivo%20Inicial%20-%20RPA%20Python.ipynb#W2sZmlsZQ%3D%3D?line=5'>6</a>\u001b[0m \u001b[39m# pyautogui.press('enter')\u001b[39;00m\n\u001b[1;32m      <a href='vscode-notebook-cell:/home/albert/project/python/curso_py/06_integracao_py_arq_e_pastas/Arquivo%20Inicial%20-%20RPA%20Python.ipynb#W2sZmlsZQ%3D%3D?line=6'>7</a>\u001b[0m \u001b[39m# pyautogui.write('mail.google.com')\u001b[39;00m\n\u001b[1;32m      <a href='vscode-notebook-cell:/home/albert/project/python/curso_py/06_integracao_py_arq_e_pastas/Arquivo%20Inicial%20-%20RPA%20Python.ipynb#W2sZmlsZQ%3D%3D?line=7'>8</a>\u001b[0m \u001b[39m# pyautogui.press('enter')\u001b[39;00m\n\u001b[0;32m----> <a href='vscode-notebook-cell:/home/albert/project/python/curso_py/06_integracao_py_arq_e_pastas/Arquivo%20Inicial%20-%20RPA%20Python.ipynb#W2sZmlsZQ%3D%3D?line=8'>9</a>\u001b[0m button7location \u001b[39m=\u001b[39m pyautogui\u001b[39m.\u001b[39;49mlocateOnScreen(\u001b[39m'\u001b[39;49m\u001b[39mescrever.png\u001b[39;49m\u001b[39m'\u001b[39;49m)\n\u001b[1;32m     <a href='vscode-notebook-cell:/home/albert/project/python/curso_py/06_integracao_py_arq_e_pastas/Arquivo%20Inicial%20-%20RPA%20Python.ipynb#W2sZmlsZQ%3D%3D?line=9'>10</a>\u001b[0m \u001b[39m# pyautogui.click(screenxota)\u001b[39;00m\n",
      "File \u001b[0;32m~/.local/lib/python3.10/site-packages/pyautogui/__init__.py:174\u001b[0m, in \u001b[0;36mraisePyAutoGUIImageNotFoundException.<locals>.wrapper\u001b[0;34m(*args, **kwargs)\u001b[0m\n\u001b[1;32m    172\u001b[0m     \u001b[39mreturn\u001b[39;00m wrappedFunction(\u001b[39m*\u001b[39margs, \u001b[39m*\u001b[39m\u001b[39m*\u001b[39mkwargs)\n\u001b[1;32m    173\u001b[0m \u001b[39mexcept\u001b[39;00m pyscreeze\u001b[39m.\u001b[39mImageNotFoundException:\n\u001b[0;32m--> 174\u001b[0m     \u001b[39mraise\u001b[39;00m ImageNotFoundException\n",
      "\u001b[0;31mImageNotFoundException\u001b[0m: "
     ]
    }
   ],
   "source": [
    "import pyautogui\n",
    "\n",
    "# pyautogui.PAUSE = 0.5\n",
    "# pyautogui.press('win')\n",
    "# pyautogui.write('google chrome')\n",
    "# pyautogui.press('enter')\n",
    "# pyautogui.write('mail.google.com')\n",
    "# pyautogui.press('enter')\n",
    "button7location = pyautogui.locateOnScreen('escrever.png')\n",
    "# pyautogui.click(screenxota)"
   ]
  },
  {
   "cell_type": "markdown",
   "metadata": {},
   "source": [
    "### Agora vamos escrever o e-mail"
   ]
  },
  {
   "cell_type": "code",
   "execution_count": 91,
   "metadata": {},
   "outputs": [
    {
     "data": {
      "text/html": [
       "<div>\n",
       "<style scoped>\n",
       "    .dataframe tbody tr th:only-of-type {\n",
       "        vertical-align: middle;\n",
       "    }\n",
       "\n",
       "    .dataframe tbody tr th {\n",
       "        vertical-align: top;\n",
       "    }\n",
       "\n",
       "    .dataframe thead th {\n",
       "        text-align: right;\n",
       "    }\n",
       "</style>\n",
       "<table border=\"1\" class=\"dataframe\">\n",
       "  <thead>\n",
       "    <tr style=\"text-align: right;\">\n",
       "      <th></th>\n",
       "      <th>Name</th>\n",
       "      <th>Given Name</th>\n",
       "      <th>Family Name</th>\n",
       "      <th>Group Membership</th>\n",
       "      <th>E-mail 1 - Type</th>\n",
       "      <th>E-mail 1 - Value</th>\n",
       "      <th>Phone 1 - Value</th>\n",
       "      <th>Organization 1 - Name</th>\n",
       "      <th>Organization 1 - Title</th>\n",
       "    </tr>\n",
       "  </thead>\n",
       "  <tbody>\n",
       "    <tr>\n",
       "      <th>0</th>\n",
       "      <td>Teste Lira</td>\n",
       "      <td>Teste</td>\n",
       "      <td>Lira</td>\n",
       "      <td>* myContacts</td>\n",
       "      <td>* Home</td>\n",
       "      <td>pythonimpressionador+lira@gmail.com</td>\n",
       "      <td>21 98561-0481</td>\n",
       "      <td>Hashtag</td>\n",
       "      <td>Programador</td>\n",
       "    </tr>\n",
       "  </tbody>\n",
       "</table>\n",
       "</div>"
      ],
      "text/plain": [
       "         Name Given Name Family Name Group Membership E-mail 1 - Type  \\\n",
       "0  Teste Lira      Teste        Lira     * myContacts          * Home   \n",
       "\n",
       "                      E-mail 1 - Value Phone 1 - Value Organization 1 - Name  \\\n",
       "0  pythonimpressionador+lira@gmail.com   21 98561-0481               Hashtag   \n",
       "\n",
       "  Organization 1 - Title  \n",
       "0            Programador  "
      ]
     },
     "metadata": {},
     "output_type": "display_data"
    },
    {
     "data": {
      "text/plain": [
       "'OK'"
      ]
     },
     "execution_count": 91,
     "metadata": {},
     "output_type": "execute_result"
    }
   ],
   "source": []
  },
  {
   "cell_type": "markdown",
   "metadata": {},
   "source": [
    "### E se eu já tiver com a aba aberta, como que eu coloco ela na frente?"
   ]
  },
  {
   "cell_type": "code",
   "execution_count": 57,
   "metadata": {},
   "outputs": [],
   "source": []
  },
  {
   "cell_type": "markdown",
   "metadata": {},
   "source": [
    "### Como descobrir a posição do mouse do local que eu quero"
   ]
  },
  {
   "cell_type": "code",
   "execution_count": 2,
   "metadata": {},
   "outputs": [
    {
     "name": "stdout",
     "output_type": "stream",
     "text": [
      "Point(x=1363, y=1441)\n"
     ]
    }
   ],
   "source": []
  }
 ],
 "metadata": {
  "kernelspec": {
   "display_name": "Python 3 (ipykernel)",
   "language": "python",
   "name": "python3"
  },
  "language_info": {
   "codemirror_mode": {
    "name": "ipython",
    "version": 3
   },
   "file_extension": ".py",
   "mimetype": "text/x-python",
   "name": "python",
   "nbconvert_exporter": "python",
   "pygments_lexer": "ipython3",
   "version": "3.10.12"
  }
 },
 "nbformat": 4,
 "nbformat_minor": 4
}
