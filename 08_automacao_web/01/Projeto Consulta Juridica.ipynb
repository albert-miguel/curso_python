{
 "cells": [
  {
   "cell_type": "code",
   "execution_count": 43,
   "id": "a5bbebcb",
   "metadata": {},
   "outputs": [],
   "source": [
    "from selenium import webdriver\n",
    "from selenium.webdriver.chrome.service import Service\n",
    "from webdriver_manager.chrome import ChromeDriverManager\n",
    "from selenium.webdriver.common.by import By\n",
    "\n",
    "servico = Service(ChromeDriverManager().install())\n",
    "driver = webdriver.Chrome(service=servico)"
   ]
  },
  {
   "cell_type": "code",
   "execution_count": 44,
   "metadata": {},
   "outputs": [],
   "source": [
    "import pandas as pd\n",
    "\n",
    "tabela =pd.read_excel('Processos.xlsx')\n"
   ]
  },
  {
   "cell_type": "code",
   "execution_count": 45,
   "metadata": {},
   "outputs": [
    {
     "name": "stderr",
     "output_type": "stream",
     "text": [
      "/tmp/ipykernel_123125/443667637.py:44: FutureWarning: Setting an item of incompatible dtype is deprecated and will raise in a future error of pandas. Value 'Encontrado' has dtype incompatible with float64, please explicitly cast to a compatible dtype first.\n",
      "  tabela.loc[linha, 'Status'] = \"Encontrado\"\n"
     ]
    }
   ],
   "source": [
    "from selenium.webdriver import ActionChains\n",
    "import time\n",
    "\n",
    "for i, linha in enumerate(tabela.index):\n",
    "  # Pegar o html dos meus arquivos\n",
    "  driver.get('file:///home/albert/project/python/curso_py/08_automacao_web/01/index.html')\n",
    "\n",
    "  # Encontrar o botão que me da as opções que me permite selecionar um estado\n",
    "  button = driver.find_element(By.XPATH, '/html/body/div/div/button')\n",
    "  ActionChains(driver).move_to_element(button).perform()\n",
    "\n",
    "  #Seleciono um estado\n",
    "  cidade = tabela.loc[linha, \"Cidade\"]\n",
    "  driver.find_element(By.PARTIAL_LINK_TEXT, cidade).click()\n",
    "\n",
    "  # Troco o selenuim para outro tab\n",
    "  aba_original = driver.window_handles[0]\n",
    "  indice = 1 + linha\n",
    "  nova_aba =driver.window_handles[indice]\n",
    "  driver.switch_to.window(nova_aba)\n",
    "\n",
    "  # Preencho o formulario\n",
    "  driver.find_element(By.XPATH, '/html/body/div/form/div/input[1]').send_keys(tabela.loc[linha, \"Nome\"])\n",
    "  driver.find_element(By.XPATH, '/html/body/div/form/div/input[2]').send_keys(tabela.loc[linha, \"Advogado\"])\n",
    "  driver.find_element(By.XPATH, '/html/body/div/form/div/input[3]').send_keys(str(tabela.loc[linha, \"Processo\"]))\n",
    "  driver.find_element(By.CLASS_NAME, 'registerbtn').click()\n",
    "\n",
    "  # Aceito o alerta\n",
    "  alert =driver.switch_to.alert\n",
    "  alert.accept()\n",
    "\n",
    "  # Aceito o segundo alarme e lanço uma mensagem dependendo do que me retornam\n",
    "  while True:\n",
    "    try:\n",
    "      alert = driver.switch_to.alert\n",
    "      break\n",
    "    except:\n",
    "      time.sleep(1)\n",
    "\n",
    "  # Trocar os status no excel\n",
    "  txt_alert = alert.text\n",
    "  if 'Processo encontrado com sucesso' in txt_alert:\n",
    "    alert.accept()\n",
    "    tabela.loc[linha, 'Status'] = \"Encontrado\"\n",
    "  else:\n",
    "    tabela.loc[linha, 'Status'] = \"Não encontrado\"\n",
    "    alert.accept()\n"
   ]
  },
  {
   "cell_type": "code",
   "execution_count": 46,
   "metadata": {},
   "outputs": [
    {
     "data": {
      "text/html": [
       "<div>\n",
       "<style scoped>\n",
       "    .dataframe tbody tr th:only-of-type {\n",
       "        vertical-align: middle;\n",
       "    }\n",
       "\n",
       "    .dataframe tbody tr th {\n",
       "        vertical-align: top;\n",
       "    }\n",
       "\n",
       "    .dataframe thead th {\n",
       "        text-align: right;\n",
       "    }\n",
       "</style>\n",
       "<table border=\"1\" class=\"dataframe\">\n",
       "  <thead>\n",
       "    <tr style=\"text-align: right;\">\n",
       "      <th></th>\n",
       "      <th>Nome</th>\n",
       "      <th>Advogado</th>\n",
       "      <th>Processo</th>\n",
       "      <th>Cidade</th>\n",
       "      <th>Status</th>\n",
       "    </tr>\n",
       "  </thead>\n",
       "  <tbody>\n",
       "    <tr>\n",
       "      <th>0</th>\n",
       "      <td>Lira</td>\n",
       "      <td>Alon Lawyer</td>\n",
       "      <td>PC6592</td>\n",
       "      <td>Distrito Federal</td>\n",
       "      <td>Encontrado</td>\n",
       "    </tr>\n",
       "    <tr>\n",
       "      <th>1</th>\n",
       "      <td>João</td>\n",
       "      <td>Lawyer Alon</td>\n",
       "      <td>EB3792</td>\n",
       "      <td>Rio de Janeiro</td>\n",
       "      <td>Encontrado</td>\n",
       "    </tr>\n",
       "    <tr>\n",
       "      <th>2</th>\n",
       "      <td>Amanda</td>\n",
       "      <td>Amanda mesmo</td>\n",
       "      <td>MM1043</td>\n",
       "      <td>Rio de Janeiro</td>\n",
       "      <td>Não encontrado</td>\n",
       "    </tr>\n",
       "    <tr>\n",
       "      <th>3</th>\n",
       "      <td>Carol</td>\n",
       "      <td>Amanda</td>\n",
       "      <td>PC5197</td>\n",
       "      <td>São Paulo</td>\n",
       "      <td>Encontrado</td>\n",
       "    </tr>\n",
       "  </tbody>\n",
       "</table>\n",
       "</div>"
      ],
      "text/plain": [
       "     Nome      Advogado Processo            Cidade          Status\n",
       "0    Lira   Alon Lawyer   PC6592  Distrito Federal      Encontrado\n",
       "1    João   Lawyer Alon   EB3792    Rio de Janeiro      Encontrado\n",
       "2  Amanda  Amanda mesmo   MM1043    Rio de Janeiro  Não encontrado\n",
       "3   Carol        Amanda   PC5197         São Paulo      Encontrado"
      ]
     },
     "metadata": {},
     "output_type": "display_data"
    }
   ],
   "source": [
    "display(tabela)"
   ]
  }
 ],
 "metadata": {
  "kernelspec": {
   "display_name": "Python 3 (ipykernel)",
   "language": "python",
   "name": "python3"
  },
  "language_info": {
   "codemirror_mode": {
    "name": "ipython",
    "version": 3
   },
   "file_extension": ".py",
   "mimetype": "text/x-python",
   "name": "python",
   "nbconvert_exporter": "python",
   "pygments_lexer": "ipython3",
   "version": "3.10.12"
  }
 },
 "nbformat": 4,
 "nbformat_minor": 5
}
