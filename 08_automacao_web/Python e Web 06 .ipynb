{
 "cells": [
  {
   "cell_type": "markdown",
   "metadata": {},
   "source": [
    "# Desafio - Rotina de Baixar uma Planilha da Web\n",
    "\n",
    "- Imagine que você trabalhe no Mercado Financeiro e tem que todo dia/semana baixar uma planilha com as cotações do dólar\n",
    "- Usaremos o site investing.com para baixar esses dados\n",
    "- O link onde ficam esses dados é: https://br.investing.com/currencies/usd-brl-historical-data\n",
    "- Escolhemos o site investing.com porque ele é cheio de coisinha chata que vai obrigar a gente a fazer um código completo\n",
    "- Crie uma conta no site antes de começar, é gratuito"
   ]
  },
  {
   "cell_type": "code",
   "execution_count": 20,
   "metadata": {},
   "outputs": [],
   "source": [
    "# q!Ef.p-QS3WbR-7\n",
    "from selenium import webdriver\n",
    "from selenium.webdriver.chrome.service import Service\n",
    "from webdriver_manager.chrome import ChromeDriverManager\n",
    "from selenium.webdriver.common.by import By\n",
    "import time\n",
    "\n",
    "servico = Service(ChromeDriverManager().install())\n",
    "driver = webdriver.Chrome(service=servico)\n",
    "driver.get('https://www.investing.com/')\n",
    "driver.maximize_window()\n",
    "time.sleep(2)"
   ]
  },
  {
   "cell_type": "code",
   "execution_count": 21,
   "metadata": {},
   "outputs": [],
   "source": [
    "driver.find_element(By.XPATH, '/html/body/div[2]/div[2]/div/div[2]/button').click()\n",
    "\n",
    "driver.find_element(By.XPATH, '/html/body/div[1]/header/div[1]/section/div[3]/ul/li[1]/button').click()\n",
    "\n",
    "driver.find_element(By.XPATH, '/html/body/div[5]/div/div[2]/div/form/button[3]').click()\n",
    "\n",
    "driver.find_element(By.XPATH, '/html/body/div[5]/div/div[2]/div/form/div[3]/input').send_keys('miguelalbert38@gmail.com')\n",
    "driver.find_element(By.XPATH, '/html/body/div[5]/div/div[2]/div/form/div[5]/input').send_keys('q!Ef.p-QS3WbR-7')\n",
    "driver.find_element(By.XPATH, '/html/body/div[5]/div/div[2]/div/form/button').click()\n",
    "\n",
    "time.sleep(2)\n",
    "driver.find_element(By.XPATH, '/html/body/div[1]/header/div[2]/div[2]/div/nav/ul/li[4]/a').click()\n",
    "\n",
    "driver.find_element(By.XPATH, '/html/body/div[1]/div[2]/div/div/div/main/div[3]/div[1]/div[2]/div/div/a').click()"
   ]
  }
 ],
 "metadata": {
  "kernelspec": {
   "display_name": "Python 3 (ipykernel)",
   "language": "python",
   "name": "python3"
  },
  "language_info": {
   "codemirror_mode": {
    "name": "ipython",
    "version": 3
   },
   "file_extension": ".py",
   "mimetype": "text/x-python",
   "name": "python",
   "nbconvert_exporter": "python",
   "pygments_lexer": "ipython3",
   "version": "3.10.12"
  }
 },
 "nbformat": 4,
 "nbformat_minor": 4
}
