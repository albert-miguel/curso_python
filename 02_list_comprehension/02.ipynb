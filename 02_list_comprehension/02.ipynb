{
 "cells": [
  {
   "cell_type": "code",
   "execution_count": 1,
   "metadata": {},
   "outputs": [],
   "source": [
    "vendas = [100, 150, 300, 5500]\n",
    "produtos = ['vinho', 'cafeteria', 'microondas', 'iphone']"
   ]
  },
  {
   "cell_type": "code",
   "execution_count": 7,
   "metadata": {},
   "outputs": [
    {
     "name": "stdout",
     "output_type": "stream",
     "text": [
      "['iphone', 'microondas', 'cafeteria', 'vinho']\n"
     ]
    }
   ],
   "source": [
    "list_aux = list(zip(vendas, produtos))\n",
    "list_aux.sort(reverse=True)\n",
    "produto = [produto for vendas, produto in list_aux]\n",
    "print(produto)"
   ]
  }
 ],
 "metadata": {
  "kernelspec": {
   "display_name": "Python 3 (ipykernel)",
   "language": "python",
   "name": "python3"
  }
 },
 "nbformat": 4,
 "nbformat_minor": 2
}
