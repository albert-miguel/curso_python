{
 "cells": [
  {
   "cell_type": "code",
   "execution_count": 1,
   "metadata": {},
   "outputs": [
    {
     "name": "stdout",
     "output_type": "stream",
     "text": [
      "[233454, 712350, 572343, 403434, 123413]\n"
     ]
    }
   ],
   "source": [
    "vendas_produtos = [('iphone', 233454, 951642), (\"galaxy\", 712350, 244295), (\"ipad\", 572343, 87248), (\"tv\", 403434, 787502), (\"xota\", 123413, 12344)]\n",
    "list_vendas2019 = [vendas2019 for produto, vendas2019, vendas2020 in vendas_produtos]\n",
    "print(list_vendas2019)"
   ]
  },
  {
   "cell_type": "code",
   "execution_count": 2,
   "metadata": {},
   "outputs": [
    {
     "name": "stdout",
     "output_type": "stream",
     "text": [
      "(712350, 'galaxy')\n"
     ]
    }
   ],
   "source": [
    "lista_vendasprodutos2019 = [(vendas2019, produto) for produto, vendas2019, vendas2020 in vendas_produtos]\n",
    "print(max(lista_vendasprodutos2019))"
   ]
  }
 ],
 "metadata": {
  "kernelspec": {
   "display_name": "Python 3 (ipykernel)",
   "language": "python",
   "name": "python3"
  }
 },
 "nbformat": 4,
 "nbformat_minor": 2
}
