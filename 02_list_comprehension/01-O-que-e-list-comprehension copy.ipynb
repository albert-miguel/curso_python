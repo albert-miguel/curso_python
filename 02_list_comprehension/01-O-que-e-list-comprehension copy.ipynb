{
 "cells": [
  {
   "cell_type": "markdown",
   "metadata": {},
   "source": [
    "## List Comprehension - O que é e qual a importância?\n",
    "#### Descrição\n",
    "- List Comprehension é a uma forma de iterar pelos elementos das listas de maneira \"mais direta\", com mais \"cara de python\"\n",
    "\n",
    "### Estrutura\n",
    "\n",
    "```\n",
    "  lista = [expressão for item in iterable]\n",
    "```"
   ]
  },
  {
   "cell_type": "code",
   "execution_count": 1,
   "metadata": {},
   "outputs": [],
   "source": [
    "preco = [100, 150, 300, 5500]\n",
    "produtos = ['vinho', 'cafeteria', 'microondas', 'iphone']"
   ]
  },
  {
   "cell_type": "code",
   "execution_count": 5,
   "metadata": {},
   "outputs": [
    {
     "name": "stdout",
     "output_type": "stream",
     "text": [
      "[30.0, 45.0, 90.0, 1650.0]\n"
     ]
    }
   ],
   "source": [
    "imposto = []\n",
    "for item in preco:\n",
    "  imposto.append(item * 0.3)\n",
    "print(imposto)"
   ]
  },
  {
   "cell_type": "code",
   "execution_count": 6,
   "metadata": {},
   "outputs": [
    {
     "name": "stdout",
     "output_type": "stream",
     "text": [
      "[30.0, 45.0, 90.0, 1650.0]\n"
     ]
    }
   ],
   "source": [
    "impostos = [item * 0.3 for item in preco]\n",
    "print(impostos)"
   ]
  },
  {
   "cell_type": "code",
   "execution_count": 10,
   "metadata": {},
   "outputs": [
    {
     "name": "stdout",
     "output_type": "stream",
     "text": [
      "[30.0, 45.0, 90.0, 1650.0]\n"
     ]
    }
   ],
   "source": [
    "def calc_imposto(preco, imposto):\n",
    "  return preco * imposto\n",
    "\n",
    "impostoss = [calc_imposto(preco, 0.3) for preco in preco]\n",
    "print(impostoss)"
   ]
  }
 ],
 "metadata": {
  "kernelspec": {
   "display_name": "Python 3 (ipykernel)",
   "language": "python",
   "name": "python3"
  },
  "language_info": {
   "codemirror_mode": {
    "name": "ipython",
    "version": 3
   },
   "file_extension": ".py",
   "mimetype": "text/x-python",
   "name": "python",
   "nbconvert_exporter": "python",
   "pygments_lexer": "ipython3",
   "version": "3.10.12"
  }
 },
 "nbformat": 4,
 "nbformat_minor": 2
}
