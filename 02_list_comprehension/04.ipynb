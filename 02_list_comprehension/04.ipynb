{
 "cells": [
  {
   "cell_type": "code",
   "execution_count": 24,
   "metadata": {},
   "outputs": [],
   "source": [
    "meta = 1000\n",
    "vendas_produtos = [1500, 150, 2100, 1950]\n",
    "produtos = [\"vinho\", \"Cafeteira\", \"micro-ondas\", \"iphone\"]"
   ]
  },
  {
   "cell_type": "code",
   "execution_count": 22,
   "metadata": {},
   "outputs": [
    {
     "name": "stdout",
     "output_type": "stream",
     "text": [
      "['vinho', 'micro-ondas', 'iphone']\n"
     ]
    }
   ],
   "source": [
    "produtos_acima_meta = []\n",
    "\n",
    "for i, produto in enumerate(produtos):\n",
    "  if vendas_produtos[i] > meta:\n",
    "    produtos_acima_meta.append(produto)\n",
    "\n",
    "print(produtos_acima_meta)"
   ]
  },
  {
   "cell_type": "code",
   "execution_count": 27,
   "metadata": {},
   "outputs": [
    {
     "name": "stdout",
     "output_type": "stream",
     "text": [
      "['vinho', 'micro-ondas', 'iphone']\n"
     ]
    }
   ],
   "source": [
    "prod_mais_vendido = [produto for i, produto in enumerate(produtos) if vendas_produtos[i] > meta]\n",
    "print(prod_mais_vendido)"
   ]
  }
 ],
 "metadata": {
  "kernelspec": {
   "display_name": "Python 3 (ipykernel)",
   "language": "python",
   "name": "python3"
  }
 },
 "nbformat": 4,
 "nbformat_minor": 2
}
